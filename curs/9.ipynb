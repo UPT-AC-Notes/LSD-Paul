{
 "cells": [
  {
   "cell_type": "markdown",
   "metadata": {},
   "source": [
    "20.11.2023\n",
    "\n",
    "CURS 9"
   ]
  },
  {
   "cell_type": "code",
   "execution_count": null,
   "metadata": {},
   "outputs": [],
   "source": [
    "'''\n",
    "ARBORI\n",
    "\n",
    "- graf conex, fara cicluri, neorientat\n",
    "- n noduri, n-1 muchii (ramuri)\n",
    "\n",
    "\n",
    "PADURE\n",
    "\n",
    "- graf neorientat, neconex, fara cicluri\n",
    "- subgrafuri conex - arbori\n",
    "'''"
   ]
  },
  {
   "cell_type": "code",
   "execution_count": null,
   "metadata": {},
   "outputs": [],
   "source": [
    "'''\n",
    "ARBORE CU RADACINA\n",
    "\n",
    "- orice radacina are ---> fii\n",
    "- orice nod are ---> parinte\n",
    "- nod fara fii ---> frunza\n",
    "'''"
   ]
  },
  {
   "cell_type": "code",
   "execution_count": null,
   "metadata": {},
   "outputs": [],
   "source": [
    "'''\n",
    "ARBORI - STRUCTURI IERARHICE\n",
    "\n",
    "- sistemul de fisiere\n",
    "- arborele sintactic\n",
    "- ierarhia de clase\n",
    "- fisierele XML (elementele contin alte elemente)\n",
    "'''"
   ]
  },
  {
   "cell_type": "code",
   "execution_count": null,
   "metadata": {},
   "outputs": [],
   "source": [
    "'''\n",
    "ARBORI ORDONATI SI NEORDONATI\n",
    "\n",
    "- ordinea poate conta sau nu\n",
    "- exista n^(n - 2) arbori neordonati cu n noduri - formula Cayley\n",
    "'''"
   ]
  },
  {
   "cell_type": "code",
   "execution_count": null,
   "metadata": {},
   "outputs": [],
   "source": [
    "'''\n",
    "STRUCTURI RECURSIVE\n",
    "\n",
    "- arbore vid\n",
    "- fie un nod cu 0 sau mai multi subarbori - o lista de subarbori (frunzele sunt liste vide)\n",
    "\n",
    "\n",
    "nodurile tin minte o informatie (valoare)\n",
    "'''"
   ]
  },
  {
   "cell_type": "code",
   "execution_count": null,
   "metadata": {},
   "outputs": [],
   "source": [
    "'''\n",
    "ARBORELE BINAR\n",
    "\n",
    "- fiecare nod are maxim 2 fii\n",
    "\n",
    "- arborele vid sau\n",
    "- un nod cu cel mult 2 subarbori\n",
    "\n",
    "- NIVEL - distanta de la radacina la nod\n",
    "- ADANCIME / INTALTIME - distanta maxima de la radacina la o frunza\n",
    "\n",
    "ARBORELE BINAR DE CAUTARE\n",
    "\n",
    "- relativ la radacina, nodurile din stanga au valori mai mici, iar cele din dreapta au valori mai mari\n",
    "\n",
    "- cautare binara - cautarea se face recursiv, in functie de valoarea nodului curent\n",
    "- daca valoarea cautata este mai mica decat valoarea nodului curent, se cauta in subarborele stang\n",
    "- daca valoarea cautata este mai mare decat valoarea nodului curent, se cauta in subarborele drept\n",
    "- daca valoarea cautata este egala cu valoarea nodului curent, am gasit nodul\n",
    "- daca subarborele este vid, nu am gasit nodul\n",
    "\n",
    "- prin parcurgerea in inordine a unui arbore binar de cautare, se obtine o lista sortata cu valorile din arbore\n",
    "'''"
   ]
  },
  {
   "cell_type": "code",
   "execution_count": null,
   "metadata": {},
   "outputs": [],
   "source": [
    "'''\n",
    "PARCURGERI\n",
    "\n",
    "- RSD - preordine\n",
    "- SRD - inordine\n",
    "- SDR - postordine\n",
    "'''"
   ]
  },
  {
   "cell_type": "code",
   "execution_count": null,
   "metadata": {},
   "outputs": [],
   "source": [
    "'''\n",
    "adaugarea unui nod nou in arborele binar de cautare\n",
    "'''\n",
    "\n",
    "def adaugare_nod(tree, nod_nou):\n",
    "    if tree is None:\n",
    "        return nod_nou\n",
    "    \n",
    "    if nod_nou['value'] < tree['value']:\n",
    "        tree['left'] = adaugare_nod(tree['left'], nod_nou)\n",
    "    else:\n",
    "        tree['right'] = adaugare_nod(tree['right'], nod_nou)\n",
    "    \n",
    "    return tree\n",
    "\n",
    "\n",
    "def stergere_nod(tree, nod):\n",
    "    if tree is None:\n",
    "        return None\n",
    "    \n",
    "    if nod['value'] < tree['value']:\n",
    "        tree['left'] = stergere_nod(tree['left'], nod)\n",
    "    elif nod['value'] > tree['value']:\n",
    "        tree['right'] = stergere_nod(tree['right'], nod)\n",
    "    else:\n",
    "        if tree['left'] is None:\n",
    "            return tree['right']\n",
    "        elif tree['right'] is None:\n",
    "            return tree['left']\n",
    "        else:\n",
    "            tree['value'] = minim(tree['right'])\n",
    "            tree['right'] = stergere_nod(tree['right'], tree['value'])\n",
    "    \n",
    "    return tree\n",
    "        "
   ]
  },
  {
   "cell_type": "code",
   "execution_count": null,
   "metadata": {},
   "outputs": [],
   "source": []
  }
 ],
 "metadata": {
  "language_info": {
   "name": "python"
  }
 },
 "nbformat": 4,
 "nbformat_minor": 2
}
