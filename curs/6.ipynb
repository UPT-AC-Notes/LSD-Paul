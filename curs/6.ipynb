{
 "cells": [
  {
   "cell_type": "markdown",
   "metadata": {},
   "source": [
    "30.10.2023\n",
    "Curs 6"
   ]
  },
  {
   "cell_type": "markdown",
   "metadata": {},
   "source": [
    "MULTIMI"
   ]
  },
  {
   "cell_type": "markdown",
   "metadata": {},
   "source": [
    "OPERATII CU MULTIMI\n",
    "\n",
    "reuniunea\n",
    "A U B - x ap de A SAU x ap de B\n",
    "\n",
    "intersectia\n",
    "A N B - x ap de A SI x ap de B\n",
    "\n",
    "diferenta\n",
    "A / B - x ap de A si nu de B\n",
    "\n",
    "\n",
    "UNIVERSUL U\n",
    "\n",
    "Complementul lui A - x nu apartine de A, dar x ap de U - U / A\n",
    "\n",
    "diferenta simetrica"
   ]
  },
  {
   "cell_type": "markdown",
   "metadata": {},
   "source": [
    "Algebra Booleana\n",
    "N si U\n",
    "\n",
    "- comutativitate\n",
    "\n",
    "A U B = B U A\n",
    "\n",
    "A N B = B N A\n",
    "\n",
    "- asociativitate\n",
    "\n",
    "- distributivitatea\n",
    "\n",
    "IDENTITATEA SI UNIVERSUL\n",
    "\n",
    "A U 0 = A\n",
    "\n",
    "A N U = A\n",
    "\n",
    "A U Ac = U\n",
    "\n",
    "A N Ac = 0\n",
    "\n",
    "- idempotenta\n",
    "\n",
    "A U A = A\n",
    "A N A = A\n",
    "\n",
    "- absorbtie\n",
    "\n",
    "A U (A N B) = A\n",
    "A N (A U B) = A\n",
    "\n",
    "- complementele elementelor identitate\n",
    "\n",
    "0c = U\n",
    "Uc = 0\n",
    "\n",
    "- limita universala\n",
    "\n",
    "A U U = U\n",
    "A N 0 = 0\n",
    "\n",
    "- Legile lui de Morgan\n",
    "\n",
    "(A U B)c = Ac N Bc\n",
    "\n",
    "(A N B)c = Ac U Bc"
   ]
  },
  {
   "cell_type": "markdown",
   "metadata": {},
   "source": [
    "AXIOME\n",
    "\n",
    "- extensionalitatii\n",
    "\n",
    "- multimii vide\n",
    "\n",
    "- regularitatii"
   ]
  },
  {
   "cell_type": "markdown",
   "metadata": {},
   "source": [
    "CARDINALUL\n",
    "\n",
    "- nr elemente | A |\n",
    "\n",
    "- multimi finite / infinite\n",
    "\n",
    "| A U B | = |A| + |B| - |A N B|"
   ]
  },
  {
   "cell_type": "markdown",
   "metadata": {},
   "source": [
    "MULTIMEA SUBMULTIMILOR - POWER SET\n",
    "\n",
    "P(S) 2 ^ S\n",
    "\n",
    "S = {a, b, c}\n",
    "\n",
    "P(S) = {0, [a], [b], [c], [a, b], [a, c], [b, c], [a, b, c]}"
   ]
  },
  {
   "cell_type": "code",
   "execution_count": 25,
   "metadata": {},
   "outputs": [
    {
     "data": {
      "text/plain": [
       "[[], [3], [2], [2, 3], [1], [1, 3], [1, 2], [1, 2, 3]]"
      ]
     },
     "execution_count": 25,
     "metadata": {},
     "output_type": "execute_result"
    }
   ],
   "source": [
    "def power_set(lst):\n",
    "    if len(lst) == 0:\n",
    "        return [[]]\n",
    "    else:\n",
    "        return power_set(lst[1:]) + [[lst[0]] + x for x in power_set(lst[1:])]\n",
    "    \n",
    "power_set([1,2,3])"
   ]
  },
  {
   "cell_type": "markdown",
   "metadata": {},
   "source": [
    "TUPLURI / PRODUS CARTEZIAN\n",
    "\n",
    "A x B = {(a, b) | a in A, b in B}\n",
    "\n",
    "|A x B| = |A| * |B|"
   ]
  },
  {
   "cell_type": "code",
   "execution_count": 26,
   "metadata": {},
   "outputs": [
    {
     "data": {
      "text/plain": [
       "[[1, 4], [1, 5], [1, 6], [2, 4], [2, 5], [2, 6], [3, 4], [3, 5], [3, 6]]"
      ]
     },
     "execution_count": 26,
     "metadata": {},
     "output_type": "execute_result"
    }
   ],
   "source": [
    "def prod_cartezian(lst):\n",
    "    if len(lst) == 0:\n",
    "        return [[]]\n",
    "    else:\n",
    "        return [[x] + y for x in lst[0] for y in prod_cartezian(lst[1:])]\n",
    "    \n",
    "prod_cartezian([[1,2,3],[4,5,6]])"
   ]
  },
  {
   "cell_type": "code",
   "execution_count": 27,
   "metadata": {},
   "outputs": [
    {
     "name": "stdout",
     "output_type": "stream",
     "text": [
      "<class 'set'>\n",
      "{1, 2, 3, 4, 5}\n",
      "5\n"
     ]
    }
   ],
   "source": [
    "# MULTIMI IN PYTHON\n",
    "\n",
    "# neindexate, neordonate, fara duplicate, imutabile\n",
    "\n",
    "# set() - multime goala\n",
    "\n",
    "multime = {1, 2, 3, 4, 5}\n",
    "\n",
    "multime2 = set([1, 2, 3, 4, 5])\n",
    "\n",
    "multime3 = set((1, 2, 3, 4, 5))\n",
    "\n",
    "multime_vida = set()\n",
    "\n",
    "print(type(multime_vida))\n",
    "\n",
    "print(multime)\n",
    "\n",
    "print(len(multime))"
   ]
  },
  {
   "cell_type": "code",
   "execution_count": 28,
   "metadata": {},
   "outputs": [
    {
     "name": "stdout",
     "output_type": "stream",
     "text": [
      "{'Joi', 'Vineri', 'Marti', 'Luni', 'Miercuri', 'Sambata', 'Duminica'}\n",
      "{1, 2, 3, 4, 5, 6, 7, 8, 9}\n"
     ]
    }
   ],
   "source": [
    "zile = {'Luni', 'Marti', 'Miercuri', 'Joi', 'Vineri', 'Sambata', 'Duminica'}\n",
    "numere = {1, 2, 3, 4, 5, 6, 7, 8, 9}\n",
    "\n",
    "print(zile)\n",
    "print(numere)"
   ]
  },
  {
   "cell_type": "code",
   "execution_count": 29,
   "metadata": {},
   "outputs": [
    {
     "ename": "TypeError",
     "evalue": "unhashable type: 'list'",
     "output_type": "error",
     "traceback": [
      "\u001b[0;31m---------------------------------------------------------------------------\u001b[0m",
      "\u001b[0;31mTypeError\u001b[0m                                 Traceback (most recent call last)",
      "\u001b[1;32m/Users/paulhondola/Faculta/LSD/6/6.ipynb Cell 13\u001b[0m line \u001b[0;36m2\n\u001b[1;32m      <a href='vscode-notebook-cell:/Users/paulhondola/Faculta/LSD/6/6.ipynb#X21sZmlsZQ%3D%3D?line=0'>1</a>\u001b[0m x \u001b[39m=\u001b[39m {\u001b[39m3\u001b[39m, \u001b[39m4\u001b[39m, (\u001b[39m1\u001b[39m, \u001b[39m2\u001b[39m, \u001b[39m3\u001b[39m)}\n\u001b[0;32m----> <a href='vscode-notebook-cell:/Users/paulhondola/Faculta/LSD/6/6.ipynb#X21sZmlsZQ%3D%3D?line=1'>2</a>\u001b[0m A \u001b[39m=\u001b[39m {\u001b[39m3\u001b[39m, [\u001b[39m4\u001b[39m, \u001b[39m5\u001b[39m, \u001b[39m6\u001b[39m]}\n",
      "\u001b[0;31mTypeError\u001b[0m: unhashable type: 'list'"
     ]
    }
   ],
   "source": [
    "x = {3, 4, (1, 2, 3)}\n",
    "A = {3, [4, 5, 6]}\n"
   ]
  },
  {
   "cell_type": "code",
   "execution_count": null,
   "metadata": {},
   "outputs": [
    {
     "name": "stdout",
     "output_type": "stream",
     "text": [
      "da\n"
     ]
    }
   ],
   "source": [
    "x = 1\n",
    "if x in {1, 2, 3}:\n",
    "    print('da')\n",
    "else:\n",
    "    print('nu')"
   ]
  },
  {
   "cell_type": "code",
   "execution_count": null,
   "metadata": {},
   "outputs": [
    {
     "name": "stdout",
     "output_type": "stream",
     "text": [
      "{1, 2, 3, 4, 5, 6}\n"
     ]
    }
   ],
   "source": [
    "multime = {1, 2, 3, 4, 5}\n",
    "multime.add(6)\n",
    "print(multime)"
   ]
  },
  {
   "cell_type": "code",
   "execution_count": null,
   "metadata": {},
   "outputs": [
    {
     "name": "stdout",
     "output_type": "stream",
     "text": [
      "{'Joi', 'Vineri', 'Marti', 'Luni', 'Miercuri', 'Sambata', 'Duminica'}\n"
     ]
    }
   ],
   "source": [
    "zile = {'Luni', 'Marti', 'Miercuri', 'Joi', 'Vineri'}\n",
    "zile_weekend = {'Sambata', 'Duminica'}\n",
    "zile.update(zile_weekend)\n",
    "print(zile)"
   ]
  },
  {
   "cell_type": "code",
   "execution_count": null,
   "metadata": {},
   "outputs": [
    {
     "name": "stdout",
     "output_type": "stream",
     "text": [
      "{'Joi', 'Vineri', 'Marti', 'Miercuri'}\n",
      "{'Joi', 'Marti', 'Miercuri'}\n"
     ]
    },
    {
     "ename": "NameError",
     "evalue": "name 'zile' is not defined",
     "output_type": "error",
     "traceback": [
      "\u001b[0;31m---------------------------------------------------------------------------\u001b[0m",
      "\u001b[0;31mNameError\u001b[0m                                 Traceback (most recent call last)",
      "\u001b[1;32m/Users/paulhondola/Faculta/LSD/6/6.ipynb Cell 17\u001b[0m line \u001b[0;36m1\n\u001b[1;32m     <a href='vscode-notebook-cell:/Users/paulhondola/Faculta/LSD/6/6.ipynb#X25sZmlsZQ%3D%3D?line=9'>10</a>\u001b[0m \u001b[39m# discard nu va da eroare daca elementul nu exista in multime\u001b[39;00m\n\u001b[1;32m     <a href='vscode-notebook-cell:/Users/paulhondola/Faculta/LSD/6/6.ipynb#X25sZmlsZQ%3D%3D?line=11'>12</a>\u001b[0m \u001b[39mdel\u001b[39;00m zile\n\u001b[0;32m---> <a href='vscode-notebook-cell:/Users/paulhondola/Faculta/LSD/6/6.ipynb#X25sZmlsZQ%3D%3D?line=12'>13</a>\u001b[0m \u001b[39mprint\u001b[39m(zile)\n\u001b[1;32m     <a href='vscode-notebook-cell:/Users/paulhondola/Faculta/LSD/6/6.ipynb#X25sZmlsZQ%3D%3D?line=13'>14</a>\u001b[0m \u001b[39m# \u001b[39;00m\n",
      "\u001b[0;31mNameError\u001b[0m: name 'zile' is not defined"
     ]
    }
   ],
   "source": [
    "# stergerea elementelor din multime\n",
    "\n",
    "zile = {'Luni', 'Marti', 'Miercuri', 'Joi', 'Vineri'}\n",
    "zile.remove('Luni')\n",
    "print(zile)\n",
    "# remova va da eroare daca elementul nu exista in multime\n",
    "\n",
    "zile.discard('Vineri')\n",
    "print(zile)\n",
    "# discard nu va da eroare daca elementul nu exista in multime\n",
    "\n",
    "del zile\n",
    "print(zile)\n",
    "# del sterge multimea"
   ]
  },
  {
   "cell_type": "code",
   "execution_count": null,
   "metadata": {},
   "outputs": [
    {
     "name": "stdout",
     "output_type": "stream",
     "text": [
      "{1, 2, 3, 'c', 'a', 'b'}\n"
     ]
    }
   ],
   "source": [
    "# UNION\n",
    "\n",
    "multime1 = {'a', 'b', 'c'}\n",
    "multime2 = {1, 2, 3}\n",
    "\n",
    "multime3 = multime1.union(multime2)\n",
    "\n",
    "print(multime3)"
   ]
  },
  {
   "cell_type": "code",
   "execution_count": null,
   "metadata": {},
   "outputs": [
    {
     "name": "stdout",
     "output_type": "stream",
     "text": [
      "{'b', 'c'}\n"
     ]
    }
   ],
   "source": [
    "# INTERSECTION\n",
    "\n",
    "multime1 = {'a', 'b', 'c'}\n",
    "multime2 = {'b', 'c', 'd'}\n",
    "\n",
    "multime3 = multime1.intersection(multime2)\n",
    "\n",
    "print(multime3)"
   ]
  },
  {
   "cell_type": "code",
   "execution_count": null,
   "metadata": {},
   "outputs": [
    {
     "name": "stdout",
     "output_type": "stream",
     "text": [
      "{'a'}\n"
     ]
    }
   ],
   "source": [
    "# DIFFERENCE\n",
    "\n",
    "multime1 = {'a', 'b', 'c'}\n",
    "multime2 = {'b', 'c', 'd'}\n",
    "\n",
    "multime3 = multime1.difference(multime2)\n",
    "\n",
    "print(multime3)"
   ]
  },
  {
   "cell_type": "code",
   "execution_count": null,
   "metadata": {},
   "outputs": [
    {
     "name": "stdout",
     "output_type": "stream",
     "text": [
      "{'a', 'd'}\n"
     ]
    }
   ],
   "source": [
    "# SYMMETRIC DIFFERENCE\n",
    "\n",
    "multime1 = {'a', 'b', 'c'}\n",
    "multime2 = {'b', 'c', 'd'}\n",
    "\n",
    "multime3 = multime1.symmetric_difference(multime2)\n",
    "\n",
    "print(multime3)"
   ]
  },
  {
   "cell_type": "code",
   "execution_count": 31,
   "metadata": {},
   "outputs": [
    {
     "name": "stdout",
     "output_type": "stream",
     "text": [
      "True\n",
      "True\n"
     ]
    }
   ],
   "source": [
    "# pt Union, Intersection si Difference - mai multe argumente\n",
    "\n",
    "# SUBSET\n",
    "\n",
    "multime1 = {'a', 'b', 'c'}\n",
    "multime2 = {'b', 'c'}\n",
    "\n",
    "print(multime2.issubset(multime1))\n",
    "\n",
    "# SUPERSET\n",
    "\n",
    "multime1 = {'a', 'b', 'c'}\n",
    "multime2 = {'b', 'c'}\n",
    "\n",
    "print(multime1.issuperset(multime2))"
   ]
  },
  {
   "cell_type": "code",
   "execution_count": 36,
   "metadata": {},
   "outputs": [
    {
     "name": "stdout",
     "output_type": "stream",
     "text": [
      "{'d', 'c', 'a', 'b'}\n",
      "{'b', 'c'}\n",
      "{'a'}\n",
      "{'a', 'd'}\n"
     ]
    }
   ],
   "source": [
    "# OPERATORI\n",
    "\n",
    "multime1 = {'a', 'b', 'c'}\n",
    "multime2 = {'b', 'c', 'd'}\n",
    "\n",
    "print(multime1 | multime2) # union\n",
    "print(multime1 & multime2) # intersection\n",
    "print(multime1 - multime2) # difference\n",
    "print(multime1 ^ multime2) # symmetric difference\n",
    "\n",
    "multime1.update(multime2)\n",
    "#multime1.union_update(multime2)\n",
    "multime1.intersection_update(multime2)\n",
    "multime1.difference_update(multime2)\n",
    "multime1.symmetric_difference_update(multime2)"
   ]
  },
  {
   "cell_type": "code",
   "execution_count": 37,
   "metadata": {},
   "outputs": [
    {
     "ename": "TypeError",
     "evalue": "unhashable type: 'set'",
     "output_type": "error",
     "traceback": [
      "\u001b[0;31m---------------------------------------------------------------------------\u001b[0m",
      "\u001b[0;31mTypeError\u001b[0m                                 Traceback (most recent call last)",
      "\u001b[1;32m/Users/paulhondola/Faculta/LSD/6/6.ipynb Cell 24\u001b[0m line \u001b[0;36m1\n\u001b[0;32m----> <a href='vscode-notebook-cell:/Users/paulhondola/Faculta/LSD/6/6.ipynb#X35sZmlsZQ%3D%3D?line=0'>1</a>\u001b[0m A \u001b[39m=\u001b[39m {{\u001b[39m1\u001b[39m, \u001b[39m2\u001b[39m, \u001b[39m3\u001b[39m}, \u001b[39m4\u001b[39m, \u001b[39m5\u001b[39m}\n\u001b[1;32m      <a href='vscode-notebook-cell:/Users/paulhondola/Faculta/LSD/6/6.ipynb#X35sZmlsZQ%3D%3D?line=1'>2</a>\u001b[0m \u001b[39mprint\u001b[39m(A)\n",
      "\u001b[0;31mTypeError\u001b[0m: unhashable type: 'set'"
     ]
    }
   ],
   "source": [
    "A = {{1, 2, 3}, 4, 5}\n",
    "print(A)\n",
    "\n",
    "# eroare pentru ca multimea nu poate contine alte multimi MUTABILE"
   ]
  },
  {
   "cell_type": "code",
   "execution_count": 42,
   "metadata": {},
   "outputs": [
    {
     "name": "stdout",
     "output_type": "stream",
     "text": [
      "frozenset({1, 2, 3})\n"
     ]
    }
   ],
   "source": [
    "A = frozenset({1, 2, 3})\n",
    "print(A)\n",
    "# frozenset - multime imutabila"
   ]
  },
  {
   "cell_type": "code",
   "execution_count": 48,
   "metadata": {},
   "outputs": [
    {
     "name": "stdout",
     "output_type": "stream",
     "text": [
      "1\n",
      "2\n",
      "3\n",
      "4\n"
     ]
    }
   ],
   "source": [
    "# OPERATII CU MULTIMI\n",
    "\n",
    "# map / filter / reduce\n",
    "\n",
    "M = {1, 2, 3, 4}\n",
    "\n",
    "import functools\n",
    "\n",
    "functools.reduce(lambda acc, elem: print(elem), M, 1)"
   ]
  },
  {
   "cell_type": "code",
   "execution_count": 56,
   "metadata": {},
   "outputs": [
    {
     "name": "stdout",
     "output_type": "stream",
     "text": [
      "{1, 3, 5}\n"
     ]
    }
   ],
   "source": [
    "# EXERCITII\n",
    "\n",
    "def multimea_div(n, A = set(), i = 1):\n",
    "    if i > n // 2:\n",
    "        return A\n",
    "    else:\n",
    "        if n % i == 0:\n",
    "            A.add(i)\n",
    "        return multimea_div(n, A, i + 1)\n",
    "    \n",
    "print(multimea_div(15))"
   ]
  }
 ],
 "metadata": {
  "kernelspec": {
   "display_name": "Python 3",
   "language": "python",
   "name": "python3"
  },
  "language_info": {
   "codemirror_mode": {
    "name": "ipython",
    "version": 3
   },
   "file_extension": ".py",
   "mimetype": "text/x-python",
   "name": "python",
   "nbconvert_exporter": "python",
   "pygments_lexer": "ipython3",
   "version": "3.11.6"
  }
 },
 "nbformat": 4,
 "nbformat_minor": 2
}
