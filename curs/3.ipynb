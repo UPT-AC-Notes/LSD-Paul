{
 "cells": [
  {
   "cell_type": "markdown",
   "metadata": {},
   "source": [
    "11.10.2023 Lab LSD 3"
   ]
  },
  {
   "cell_type": "code",
   "execution_count": 4,
   "metadata": {},
   "outputs": [
    {
     "data": {
      "text/plain": [
       "9"
      ]
     },
     "execution_count": 4,
     "metadata": {},
     "output_type": "execute_result"
    }
   ],
   "source": [
    "# problema 3 - lab2\n",
    "\n",
    "import operator\n",
    "\n",
    "def OperatiiFunctii(operator, f, g):\n",
    "    def Suma2(x):\n",
    "        return operator(f(x), g(x))\n",
    "    return Suma2\n",
    "\n",
    "OperatiiFunctii(operator.add, lambda x: x + 1, lambda x: x + 2)(3)"
   ]
  },
  {
   "cell_type": "markdown",
   "metadata": {},
   "source": [
    "FUNCTII RECURSIVE"
   ]
  },
  {
   "cell_type": "markdown",
   "metadata": {},
   "source": [
    "python are limita de 995 de apeluri recursive per functie"
   ]
  },
  {
   "cell_type": "code",
   "execution_count": null,
   "metadata": {},
   "outputs": [],
   "source": [
    "import system\n",
    "\n",
    "system.setrecursionlimit(1002)"
   ]
  },
  {
   "cell_type": "code",
   "execution_count": 8,
   "metadata": {},
   "outputs": [
    {
     "data": {
      "text/plain": [
       "6"
      ]
     },
     "execution_count": 8,
     "metadata": {},
     "output_type": "execute_result"
    }
   ],
   "source": [
    "# / - pt divizare cu float\n",
    "# // - pt divizare cu int\n",
    "\n",
    "def produs_cifre(n):\n",
    "    if n == 0:\n",
    "        return 1\n",
    "    else:\n",
    "        return (n % 10) * produs_cifre(n // 10)\n",
    "    \n",
    "produs_cifre(123)"
   ]
  },
  {
   "cell_type": "code",
   "execution_count": 11,
   "metadata": {},
   "outputs": [
    {
     "name": "stdout",
     "output_type": "stream",
     "text": [
      "True\n",
      "False\n"
     ]
    }
   ],
   "source": [
    "def is_prime(n):\n",
    "    if n < 2:\n",
    "        return False\n",
    "    else:\n",
    "        def is_prime_aux(d):\n",
    "            if d * d > n:\n",
    "                return True\n",
    "            elif n % d == 0:\n",
    "                return False\n",
    "            else:\n",
    "                return is_prime_aux(d + 1)\n",
    "            \n",
    "        return is_prime_aux(2)\n",
    "\n",
    "print(is_prime(7))\n",
    "print(is_prime(9))"
   ]
  }
 ],
 "metadata": {
  "kernelspec": {
   "display_name": "Python 3",
   "language": "python",
   "name": "python3"
  },
  "language_info": {
   "codemirror_mode": {
    "name": "ipython",
    "version": 3
   },
   "file_extension": ".py",
   "mimetype": "text/x-python",
   "name": "python",
   "nbconvert_exporter": "python",
   "pygments_lexer": "ipython3",
   "version": "3.9.6"
  }
 },
 "nbformat": 4,
 "nbformat_minor": 2
}
