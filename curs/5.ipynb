{
 "cells": [
  {
   "cell_type": "markdown",
   "metadata": {},
   "source": [
    "23.10.2023\n",
    "Curs 5\n",
    "\n",
    "LISTE"
   ]
  },
  {
   "cell_type": "markdown",
   "metadata": {},
   "source": [
    "functioneaza ca si alocarea dinamica - lista simplu inlantuita\n",
    "pointerii din lista lucreaza automat in backend\n",
    "\n",
    "se folosesc ca si vectorii normali"
   ]
  },
  {
   "cell_type": "markdown",
   "metadata": {},
   "source": [
    "lista - secventa finita, ordonata, lungime oricat de mare\n",
    "\n",
    "doua liste sunt egale daca au aceleasi elemente\n",
    "\n",
    "poate contine orice tip de date\n",
    "\n",
    "lista vida = []\n",
    "\n",
    "capul listei = lista[0]\n",
    "coada listei = lista[1:]"
   ]
  },
  {
   "cell_type": "markdown",
   "metadata": {},
   "source": [
    "lista ca tip recursiv\n",
    "\n",
    "lista este:\n",
    "\n",
    "- o lista vida\n",
    "- un element urmat de o lista\n",
    "- (capul listei) (coada listei)"
   ]
  },
  {
   "cell_type": "code",
   "execution_count": 26,
   "metadata": {},
   "outputs": [
    {
     "name": "stdout",
     "output_type": "stream",
     "text": [
      "bimbimbambam\n"
     ]
    }
   ],
   "source": [
    "print(\"bimbimbambam\")"
   ]
  },
  {
   "cell_type": "code",
   "execution_count": 27,
   "metadata": {},
   "outputs": [
    {
     "name": "stdout",
     "output_type": "stream",
     "text": [
      "3\n",
      "6\n"
     ]
    }
   ],
   "source": [
    "lista = [1, 2, 3, 4, 5, 6]\n",
    "print(lista[2])\n",
    "print(len(lista))"
   ]
  },
  {
   "cell_type": "markdown",
   "metadata": {},
   "source": [
    "list() - constructorul listei"
   ]
  },
  {
   "cell_type": "code",
   "execution_count": 28,
   "metadata": {},
   "outputs": [
    {
     "name": "stdout",
     "output_type": "stream",
     "text": [
      "[2023, 2023]\n",
      "['s', 'i', 'r']\n"
     ]
    }
   ],
   "source": [
    "lista = list((2023, 2023))\n",
    "print(lista)\n",
    "\n",
    "lista = list(\"sir\")\n",
    "print(lista)"
   ]
  },
  {
   "cell_type": "code",
   "execution_count": 29,
   "metadata": {},
   "outputs": [
    {
     "name": "stdout",
     "output_type": "stream",
     "text": [
      "6\n",
      "[3, 4, 5]\n",
      "[3, 4, 5, 6]\n"
     ]
    }
   ],
   "source": [
    "# accesarea elementelor\n",
    "\n",
    "lista = [1, 2, 3, 4, 5, 6]\n",
    "\n",
    "print(lista[-1])\n",
    "print(lista[2:5])\n",
    "print(lista[2:])"
   ]
  },
  {
   "cell_type": "code",
   "execution_count": 30,
   "metadata": {},
   "outputs": [
    {
     "name": "stdout",
     "output_type": "stream",
     "text": [
      "da\n"
     ]
    }
   ],
   "source": [
    "# in\n",
    "\n",
    "lista = [1, 2, 3, 4, 5, 6]\n",
    "\n",
    "elem = 2\n",
    "\n",
    "if elem in lista:\n",
    "    print('da')\n",
    "else:\n",
    "    print('nu')"
   ]
  },
  {
   "cell_type": "code",
   "execution_count": 31,
   "metadata": {},
   "outputs": [
    {
     "name": "stdout",
     "output_type": "stream",
     "text": [
      "[1, 2, 3, 4, 5, 6]\n",
      "[1, 2, 10, 4, 5, 6]\n"
     ]
    }
   ],
   "source": [
    "# tip de date mutabil\n",
    "\n",
    "lista = [1, 2, 3, 4, 5, 6]\n",
    "\n",
    "print(lista)\n",
    "\n",
    "lista[2] = 10 # modificarea elementelor\n",
    "\n",
    "print(lista)\n"
   ]
  },
  {
   "cell_type": "code",
   "execution_count": 32,
   "metadata": {},
   "outputs": [
    {
     "name": "stdout",
     "output_type": "stream",
     "text": [
      "[1, 2, 3, 4, 5, 6, 10]\n"
     ]
    }
   ],
   "source": [
    "# adaugarea unui element in lista\n",
    "\n",
    "lista = [1, 2, 3, 4, 5, 6]\n",
    "\n",
    "lista.append(10) # se adauga la finalul listei\n",
    "\n",
    "print(lista)"
   ]
  },
  {
   "cell_type": "code",
   "execution_count": 33,
   "metadata": {},
   "outputs": [
    {
     "name": "stdout",
     "output_type": "stream",
     "text": [
      "[1, 2, 10, 3, 4, 5, 6]\n"
     ]
    }
   ],
   "source": [
    "# adaugarea pe o anumita pozitie\n",
    "\n",
    "lista = [1, 2, 3, 4, 5, 6]\n",
    "\n",
    "lista.insert(2, 10) # se adauga pe pozitia 2\n",
    "\n",
    "print(lista)"
   ]
  },
  {
   "cell_type": "code",
   "execution_count": 34,
   "metadata": {},
   "outputs": [
    {
     "name": "stdout",
     "output_type": "stream",
     "text": [
      "[1, 2, 3, 4, 5, 6, 10, 11, 12]\n",
      "['a', 'b', 'c', 'd', 'e', 'f', 'g', 'h', 'i', 'j', 'k', 'l']\n"
     ]
    }
   ],
   "source": [
    "# adaugarea elementelor unei alte liste\n",
    "\n",
    "lista = [1, 2, 3, 4, 5, 6]\n",
    "\n",
    "lista.extend([10, 11, 12]) # se adauga la finalul listei\n",
    "\n",
    "print(lista)\n",
    "\n",
    "lista = ['a', 'b', 'c', 'd', 'e', 'f']\n",
    "\n",
    "lista2 = ['g', 'h', 'i', 'j', 'k', 'l']\n",
    "\n",
    "lista.extend(lista2)\n",
    "\n",
    "print(lista)"
   ]
  },
  {
   "cell_type": "code",
   "execution_count": 35,
   "metadata": {},
   "outputs": [
    {
     "name": "stdout",
     "output_type": "stream",
     "text": [
      "[1, 2, 3, 4, 5]\n",
      "[1, 2, 3, 4]\n",
      "[1, 2, 4]\n"
     ]
    }
   ],
   "source": [
    "# stergerea elementelor\n",
    "\n",
    "lista = [1, 2, 3, 4, 5, 6]\n",
    "\n",
    "lista.pop() # sterge ultimul element\n",
    "\n",
    "print(lista)\n",
    "\n",
    "lista.pop(4) # sterge elementul de pe pozitia 5\n",
    "\n",
    "print(lista)\n",
    "\n",
    "lista.remove(3) # sterge elementul 3 ---> prima intalnire\n",
    "\n",
    "print(lista)"
   ]
  },
  {
   "cell_type": "code",
   "execution_count": 36,
   "metadata": {},
   "outputs": [
    {
     "name": "stdout",
     "output_type": "stream",
     "text": [
      "[2, 3, 4, 5, 6]\n",
      "[]\n"
     ]
    }
   ],
   "source": [
    "# eliminarea elementelor din lista\n",
    "\n",
    "lista = [1, 2, 3, 4, 5, 6]\n",
    "\n",
    "del lista[0]\n",
    "\n",
    "print(lista)\n",
    "\n",
    "\n",
    "\n",
    "# stergerea tuturor elementelor din lista - lista nu ramane\n",
    "# del lista\n",
    "# print(lista) ---> eroare\n",
    "\n",
    "lista.clear() # sterge toate elementele din lista - lista ramane\n",
    "\n",
    "print(lista)"
   ]
  },
  {
   "cell_type": "code",
   "execution_count": 37,
   "metadata": {},
   "outputs": [
    {
     "name": "stdout",
     "output_type": "stream",
     "text": [
      "1 2 3 4 5 6 "
     ]
    }
   ],
   "source": [
    "# parcurgerea element cu element\n",
    "\n",
    "lista = [1, 2, 3, 4, 5, 6]\n",
    "\n",
    "for elem in lista:\n",
    "    print(elem, end=' ')"
   ]
  },
  {
   "cell_type": "code",
   "execution_count": 38,
   "metadata": {},
   "outputs": [
    {
     "name": "stdout",
     "output_type": "stream",
     "text": [
      "[2, 4, 6]\n",
      "[2, 4, 6]\n"
     ]
    }
   ],
   "source": [
    "# creearea unei noi liste\n",
    "\n",
    "lista = [1, 2, 3, 4, 5, 6]\n",
    "\n",
    "pare = []\n",
    "\n",
    "for elem in lista:\n",
    "    if elem % 2 == 0:\n",
    "        pare.append(elem)\n",
    "\n",
    "print(pare)\n",
    "\n",
    "# newlist = [expression for item in iterable if condition == True] ---> list comprehension\n",
    "\n",
    "lista = [1, 2, 3, 4, 5, 6]\n",
    "\n",
    "pare = [x for x in lista if x % 2 == 0]\n",
    "\n",
    "print(pare)"
   ]
  },
  {
   "cell_type": "code",
   "execution_count": 39,
   "metadata": {},
   "outputs": [
    {
     "name": "stdout",
     "output_type": "stream",
     "text": [
      "[2, 4, 6]\n"
     ]
    }
   ],
   "source": [
    "# generare a unei liste noi - mod recursiv\n",
    "\n",
    "lista = [1, 2, 3, 4, 5, 6]\n",
    "\n",
    "def pare(lista):\n",
    "    if len(lista) == 0:\n",
    "        return []\n",
    "    else:\n",
    "        if lista[0] % 2 == 0:\n",
    "            return [lista[0]] + pare(lista[1:])\n",
    "        else:\n",
    "            return pare(lista[1:])\n",
    "        \n",
    "print(pare(lista))"
   ]
  },
  {
   "cell_type": "code",
   "execution_count": 40,
   "metadata": {},
   "outputs": [
    {
     "name": "stdout",
     "output_type": "stream",
     "text": [
      "[2, 4, 6]\n"
     ]
    }
   ],
   "source": [
    "lista = [1, 2, 3, 4, 5, 6]\n",
    "pare = []\n",
    "\n",
    "def f(lista1, lista2 = []):\n",
    "    if lista1 == []:\n",
    "        return lista2\n",
    "    elif lista1[0] % 2 == 0:\n",
    "        return f(lista1[1:], lista2 + [lista1[0]])\n",
    "    else:\n",
    "        return f(lista1[1:], lista2)\n",
    "    \n",
    "print(f(lista, pare))"
   ]
  },
  {
   "cell_type": "code",
   "execution_count": 41,
   "metadata": {},
   "outputs": [
    {
     "name": "stdout",
     "output_type": "stream",
     "text": [
      "[10, 11, 2, 1, 29]\n"
     ]
    }
   ],
   "source": [
    "# sortarea listelor\n",
    "\n",
    "def functie(x):\n",
    "    return abs(x - 10)\n",
    "\n",
    "lista = [1, 2, 10, 11, 29]\n",
    "\n",
    "lista.sort(key = functie)\n",
    "\n",
    "print(lista)"
   ]
  },
  {
   "cell_type": "code",
   "execution_count": 42,
   "metadata": {},
   "outputs": [
    {
     "name": "stdout",
     "output_type": "stream",
     "text": [
      "[6, 5, 4, 3, 2, 1]\n"
     ]
    }
   ],
   "source": [
    "# inversarea elementelor din lista\n",
    "\n",
    "numere = [1, 2, 3, 4, 5, 6]\n",
    "\n",
    "numere.reverse()\n",
    "\n",
    "print(numere)"
   ]
  },
  {
   "cell_type": "code",
   "execution_count": 43,
   "metadata": {},
   "outputs": [
    {
     "name": "stdout",
     "output_type": "stream",
     "text": [
      "[1, 2, 3, 4, 5, 6]\n",
      "[1, 2, 3, 4, 5, 6]\n"
     ]
    }
   ],
   "source": [
    "# copierea listelor\n",
    "\n",
    "lista = [1, 2, 3, 4, 5, 6]\n",
    "\n",
    "lista2 = lista.copy()\n",
    "\n",
    "print(lista2)\n",
    "\n",
    "lista3 = list(lista)\n",
    "\n",
    "print(lista3)"
   ]
  },
  {
   "cell_type": "code",
   "execution_count": 44,
   "metadata": {},
   "outputs": [
    {
     "name": "stdout",
     "output_type": "stream",
     "text": [
      "[1, 4, 9, 16]\n",
      "[1, 8, 27, 64]\n"
     ]
    }
   ],
   "source": [
    "# map\n",
    "\n",
    "def patrat(x):\n",
    "    return x * x\n",
    "\n",
    "numere = [1, 2, 3, 4]\n",
    "\n",
    "lista = map(patrat, numere)\n",
    "\n",
    "print(list(lista))\n",
    "\n",
    "# map cu functie anonima\n",
    "\n",
    "numere = [1, 2, 3, 4]\n",
    "\n",
    "lista = list(map(lambda x: x ** 3, numere))\n",
    "\n",
    "print(lista)"
   ]
  },
  {
   "cell_type": "code",
   "execution_count": 45,
   "metadata": {},
   "outputs": [
    {
     "name": "stdout",
     "output_type": "stream",
     "text": [
      "[5, 7, 9]\n"
     ]
    }
   ],
   "source": [
    "numere1 = [1, 2, 3]\n",
    "numere2 = [4, 5, 6]\n",
    "\n",
    "result = list(map(lambda x, y: x + y, numere1, numere2))\n",
    "\n",
    "print(result)"
   ]
  },
  {
   "cell_type": "code",
   "execution_count": 25,
   "metadata": {},
   "outputs": [
    {
     "name": "stdout",
     "output_type": "stream",
     "text": [
      "15\n",
      "120\n",
      "217981.525\n"
     ]
    }
   ],
   "source": [
    "# functia reduce\n",
    "\n",
    "# reduce lista la un singur rezultat\n",
    "\n",
    "import functools\n",
    "\n",
    "# reduce(function, sequence, initial value)\n",
    "\n",
    "# se aplica functia pe primul si al doilea element din lista\n",
    "# retine rezultatul, il aplica pe al treilea element din lista\n",
    "# se repeta pana cand lista se termina\n",
    "\n",
    "# trebuie o functie cu 2 parametrii care se aplica pe 2 elemente secvential\n",
    "\n",
    "def suma(x, y):\n",
    "    return x + y\n",
    "\n",
    "numere = [1, 2, 3, 4, 5]\n",
    "\n",
    "print(functools.reduce(suma, numere, 0))\n",
    "\n",
    "# reduce cu lambda\n",
    "\n",
    "numere = [1, 2, 3, 4, 5]\n",
    "\n",
    "print(functools.reduce(lambda x, y: x * y, numere, 1))\n",
    "\n",
    "# maximul dintr-o lista\n",
    "\n",
    "numere = [1, 6, 4290, 25252.52, 217981.525, 295.525]\n",
    "\n",
    "print(functools.reduce(lambda x, y: x if x > y else y, numere))"
   ]
  },
  {
   "cell_type": "code",
   "execution_count": 48,
   "metadata": {},
   "outputs": [
    {
     "name": "stdout",
     "output_type": "stream",
     "text": [
      "[2, 4, 6]\n",
      "['a', 'e']\n",
      "[2, 4, 6]\n",
      "[(1, 6), (2, 7), (3, 8), (4, 9), (5, 10)]\n"
     ]
    }
   ],
   "source": [
    "# filter\n",
    "\n",
    "# filter(function, sequence)\n",
    "\n",
    "# returneaza o lista cu elementele din secventa care indeplinesc conditia\n",
    "\n",
    "def f(x):\n",
    "    if x % 2 == 0:\n",
    "        return True\n",
    "    else:\n",
    "        return False\n",
    "    \n",
    "numere = [1, 2, 3, 4, 5, 6]\n",
    "\n",
    "print(list(filter(f, numere)))\n",
    "\n",
    "\n",
    "def check_vocala(litera):\n",
    "    vocale = ['a', 'e', 'i', 'o', 'u']\n",
    "    if litera in vocale:\n",
    "        return True\n",
    "    else:\n",
    "        return False\n",
    "    \n",
    "litere = ['a', 'b', 'c', 'd', 'e', 'f']\n",
    "\n",
    "print(list(filter(check_vocala, litere)))\n",
    "\n",
    "# filter cu lambda\n",
    "\n",
    "\n",
    "numere = [1, 2, 3, 4, 5, 6]\n",
    "\n",
    "print(list(filter(lambda x: x % 2 == 0, numere)))\n",
    "\n",
    "\n",
    "# zip\n",
    "\n",
    "# zip(sequence1, sequence2, ...)\n",
    "\n",
    "# returneaza o lista de tupluri\n",
    "\n",
    "numere1 = [1, 2, 3, 4, 5]\n",
    "\n",
    "numere2 = [6, 7, 8, 9, 10]\n",
    "\n",
    "print(list(zip(numere1, numere2)))"
   ]
  },
  {
   "cell_type": "code",
   "execution_count": 51,
   "metadata": {},
   "outputs": [
    {
     "name": "stdout",
     "output_type": "stream",
     "text": [
      "4385907512\n",
      "0x1056ba338\n",
      "0x1056ba358\n"
     ]
    }
   ],
   "source": [
    "# adrese\n",
    "\n",
    "lista = [1, 2, 3, 4, 5]\n",
    "\n",
    "print(id(lista[0]))\n",
    "\n",
    "print(hex(id(lista[0])))\n",
    "print(hex(id(lista[1])))"
   ]
  },
  {
   "cell_type": "code",
   "execution_count": 52,
   "metadata": {},
   "outputs": [
    {
     "name": "stdout",
     "output_type": "stream",
     "text": [
      "1\n",
      "[2, 3, 4, 5]\n"
     ]
    }
   ],
   "source": [
    "# capul si coada\n",
    "\n",
    "lista = [1, 2, 3, 4, 5]\n",
    "\n",
    "head, tail = lista[0], lista[1:]\n",
    "\n",
    "print(head)\n",
    "\n",
    "print(tail)"
   ]
  },
  {
   "cell_type": "code",
   "execution_count": 53,
   "metadata": {},
   "outputs": [
    {
     "name": "stdout",
     "output_type": "stream",
     "text": [
      "[1, 2, 3, 4, 5, 6, 7, 8, 9, 10]\n"
     ]
    }
   ],
   "source": [
    "# crearea unei liste in mod recursiv\n",
    "\n",
    "def create_list(start, end):\n",
    "    if start > end:\n",
    "        return []\n",
    "    else:\n",
    "        return [start] + create_list(start + 1, end)\n",
    "    \n",
    "print(create_list(1, 10))"
   ]
  },
  {
   "cell_type": "code",
   "execution_count": 55,
   "metadata": {},
   "outputs": [
    {
     "name": "stdout",
     "output_type": "stream",
     "text": [
      "6\n",
      "6\n"
     ]
    }
   ],
   "source": [
    "# lungimea unei liste in mod recursiv\n",
    "\n",
    "def lungime(lista):\n",
    "    if lista == []:\n",
    "        return 0\n",
    "    else:\n",
    "        return 1 + lungime(lista[1:])\n",
    "    \n",
    "print(lungime([1, 2, 3, 4, 5, 6]))\n",
    "\n",
    "# tail recursion\n",
    "\n",
    "def lungime2(lista, acc = 0):\n",
    "    if lista == []:\n",
    "        return acc\n",
    "    else:\n",
    "        return lungime2(lista[1:], acc + 1)\n",
    "    \n",
    "print(lungime2([1, 2, 3, 4, 5, 6]))"
   ]
  },
  {
   "cell_type": "code",
   "execution_count": 56,
   "metadata": {},
   "outputs": [
    {
     "name": "stdout",
     "output_type": "stream",
     "text": [
      "True\n"
     ]
    }
   ],
   "source": [
    "# contine - recursiv\n",
    "\n",
    "def contine(x, lista):\n",
    "    if lista == []:\n",
    "        return False\n",
    "    return x == lista[0] or contine(x, lista[1:])\n",
    "\n",
    "print(contine(3, [1, 2, 3, 4, 5, 6]))"
   ]
  }
 ],
 "metadata": {
  "kernelspec": {
   "display_name": "Python 3",
   "language": "python",
   "name": "python3"
  },
  "language_info": {
   "codemirror_mode": {
    "name": "ipython",
    "version": 3
   },
   "file_extension": ".py",
   "mimetype": "text/x-python",
   "name": "python",
   "nbconvert_exporter": "python",
   "pygments_lexer": "ipython3",
   "version": "3.11.6"
  }
 },
 "nbformat": 4,
 "nbformat_minor": 2
}
