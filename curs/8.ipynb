{
 "cells": [
  {
   "cell_type": "markdown",
   "metadata": {},
   "source": [
    "13.11.2023\n",
    "\n",
    "Curs 8"
   ]
  },
  {
   "cell_type": "markdown",
   "metadata": {},
   "source": [
    "GRAFURI\n",
    "\n",
    "- multime de obiecte (noduri, varfuri, muchii)\n",
    "\n",
    "G = (V, E) - V - noduri (Vertices) - E - muchii (Edges)\n",
    "\n",
    "(u, v) in V x V\n",
    "\n",
    "- poate fi reprezentat din figuri geometrice"
   ]
  },
  {
   "cell_type": "markdown",
   "metadata": {},
   "source": [
    "Nodurile\n",
    "\n",
    "multimea lor trebuie sa fie o multime finita, nevida\n",
    "\n",
    "- 2 noduri adiacente - sunt incidenti cu o muchie comuna\n",
    "\n",
    "- gradul unui nod - numarul de muchii incidente cu acel nod\n",
    "\n",
    "- gradele tuturor nodurilor - 2 * nr muchii"
   ]
  },
  {
   "cell_type": "markdown",
   "metadata": {},
   "source": [
    "Graf orientat / neorientat\n",
    "\n",
    "- pe multimea nodurilor - relatie E in V x V\n",
    "\n",
    "- neorientat - relatie simetrica"
   ]
  },
  {
   "cell_type": "markdown",
   "metadata": {},
   "source": [
    "DRUM\n",
    "\n",
    "x0 -> x1 -> x2.....-> xn\n",
    "\n",
    "CICLU\n",
    "\n",
    "x0 -> x1 -> x2.....-> xn -> x0\n",
    "\n",
    "\n",
    "CONEX - are un drum de la un nod la oricare alt nod (TARE CONEX - PT GRAF ORIENTAT)\n",
    "\n",
    "\n",
    "COMPONENTA CONEXA - subgraf in care exista un drum intre oricare 2 noduri - subgraf conex maximal\n",
    "\n",
    "SLAB / TARE CONEX"
   ]
  },
  {
   "cell_type": "markdown",
   "metadata": {},
   "source": [
    "CLASE DE ECHIVALENTA\n",
    "\n",
    "- orice nod e in componenta proprie - reflexivitate\n",
    "\n",
    "- un drum de la u la v este drum de la v la u - simetrie\n",
    "\n",
    "- drum(u, v) - drum(v, w) ---- drum(u, w)"
   ]
  },
  {
   "cell_type": "markdown",
   "metadata": {},
   "source": [
    "EULER\n",
    "\n",
    "- un drum / ciclu eulerian - contine toate muchiile unui graf o singura data\n",
    "\n",
    "- daca toate nodurile au grad par (pt ciclu)\n",
    "\n",
    "- daca 2 noduri au graf impar , restul par (pt drum)"
   ]
  },
  {
   "cell_type": "markdown",
   "metadata": {},
   "source": [
    "GRAF PONDERAT"
   ]
  },
  {
   "cell_type": "markdown",
   "metadata": {},
   "source": [
    "GRAF FLUX DE CONTROL\n",
    "\n",
    "NODURI - instructiuni, secvente liniare\n",
    "\n",
    "MUCHII - descriu secventierea"
   ]
  },
  {
   "cell_type": "markdown",
   "metadata": {},
   "source": [
    "REPREZENTAREA GRAFURILOR\n",
    "\n",
    "- matrice de adiacenta\n",
    "\n",
    "M[i, j] = 1 - daca exista muchie intre i si j\n",
    "M[i, j] = 0 - daca nu\n",
    "\n",
    "poate contine lungimea / costul muchiei - graf ponderat\n",
    "\n",
    "- lista de adiacenta - DICTIONAR\n",
    "\n",
    "cheia din dict - nodul\n",
    "valoarea - lista de noduri adiacente\n",
    "\n",
    "- lista de perechi"
   ]
  },
  {
   "cell_type": "markdown",
   "metadata": {},
   "source": [
    "PARCURGEREA IN ADANCIME (depth first)\n",
    "\n",
    "- preordine\n",
    "\n",
    "PARCURGEREA IN CUPRINDERE (breadth first)"
   ]
  },
  {
   "cell_type": "code",
   "execution_count": 11,
   "metadata": {},
   "outputs": [
    {
     "name": "stdout",
     "output_type": "stream",
     "text": [
      "['a', 'b', 'c', 'd', 'e']\n",
      "{('a', 'b'), ('b', 'd'), ('c', 'd'), ('e', 'd'), ('a', 'c'), ('b', 'a'), ('c', 'a'), ('d', 'e')}\n",
      "{'a': {'c', 'b'}, 'b': {'a', 'd'}, 'c': {'a', 'd'}, 'd': {'e'}, 'e': {'d'}, 'f': set()}\n",
      "{'a': {'d', 'c', 'b'}, 'b': {'a', 'd'}, 'c': {'a', 'd'}, 'd': {'e'}, 'e': {'d'}, 'f': set()}\n"
     ]
    }
   ],
   "source": [
    "# grafuri in python\n",
    "\n",
    "# G = (V, E), V = {a, b, c, d, e}, E = {ab, ac, bd, cd, de}\n",
    "\n",
    "# set gol daca nodul nu are vecini\n",
    "graf = {\n",
    "    'a': {'b', 'c'},\n",
    "    'b': {'a', 'd'},\n",
    "    'c': {'a', 'd'},\n",
    "    'd': {'e'},\n",
    "    'e': {'d'}\n",
    "}\n",
    "\n",
    "print(list(graf.keys()))\n",
    "\n",
    "import functools\n",
    "\n",
    "def afisare_muchii(graf, muchii = set()):\n",
    "    def func(acc, elem):\n",
    "        cheie, valoare = elem\n",
    "        def func_2(acc2, elem2):\n",
    "            muchii.add((cheie, elem2))\n",
    "        functools.reduce(func_2, valoare, 0)\n",
    "    functools.reduce(func, graf.items(), 0)\n",
    "    return muchii\n",
    "\n",
    "            \n",
    "print(afisare_muchii(graf))\n",
    "\n",
    "\n",
    "def adaugare_nod(graf, nod):\n",
    "    if(not nod in graf):\n",
    "        graf[nod] = set()\n",
    "    return graf\n",
    "\n",
    "adaugare_nod(graf, 'f')\n",
    "\n",
    "print(graf)\n",
    "\n",
    "\n",
    "def adaugare_muchie(graf, muchie):\n",
    "    if muchie[0] in graf:\n",
    "        graf[muchie[0]].add(muchie[1])\n",
    "    else:\n",
    "        graf[muchie[0]] = {muchie[1]}\n",
    "    if not muchie[1] in graf:\n",
    "        graf[muchie[1]] = set()\n",
    "    return graf\n",
    "\n",
    "\n",
    "print(adaugare_muchie(graf, ('a', 'd')))"
   ]
  }
 ],
 "metadata": {
  "kernelspec": {
   "display_name": "Python 3",
   "language": "python",
   "name": "python3"
  },
  "language_info": {
   "codemirror_mode": {
    "name": "ipython",
    "version": 3
   },
   "file_extension": ".py",
   "mimetype": "text/x-python",
   "name": "python",
   "nbconvert_exporter": "python",
   "pygments_lexer": "ipython3",
   "version": "3.11.6"
  }
 },
 "nbformat": 4,
 "nbformat_minor": 2
}
