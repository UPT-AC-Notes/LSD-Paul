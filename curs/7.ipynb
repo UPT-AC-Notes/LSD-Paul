{
 "cells": [
  {
   "cell_type": "markdown",
   "metadata": {},
   "source": [
    "06.11.2023\n",
    "\n",
    "Curs 7"
   ]
  },
  {
   "cell_type": "markdown",
   "metadata": {},
   "source": [
    "RELATII / DICTIONARE"
   ]
  },
  {
   "cell_type": "markdown",
   "metadata": {},
   "source": [
    "Relatia - modeleaza o legatura intre 2 entitati"
   ]
  },
  {
   "cell_type": "markdown",
   "metadata": {},
   "source": [
    "Relatii binare\n",
    "\n",
    "multime de perechi - submultime a produsului cartezian A x B\n",
    "\n",
    "notatie xRy"
   ]
  },
  {
   "cell_type": "markdown",
   "metadata": {},
   "source": [
    "notiune mai generala decat o functie\n",
    "\n",
    "- un element din A se poate asocia cu mai multe elemente din B\n",
    "\n",
    "- relatia nu este o notiune simetrica (x, y) != (y, x)"
   ]
  },
  {
   "cell_type": "markdown",
   "metadata": {},
   "source": [
    "matrice booleana / binara\n",
    "\n",
    "Mxy = 1 / (x, y) e in relatie\n",
    "Mxy = 0 / nu e in relatie\n",
    "\n",
    "(grafuri)"
   ]
  },
  {
   "cell_type": "markdown",
   "metadata": {},
   "source": [
    "numarul de relatii intre 2 multimi\n",
    "\n",
    "powerset(AxB) = 2 ^ ( |A| * |B| )"
   ]
  },
  {
   "cell_type": "markdown",
   "metadata": {},
   "source": [
    "functia partiala\n",
    "\n",
    "- caz particular\n",
    "\n",
    "- un singur element din B la un element din A\n",
    "\n",
    "- nu fiecare element din A este in relatie\n",
    "\n",
    "- cand nu stim domeniul A"
   ]
  },
  {
   "cell_type": "markdown",
   "metadata": {},
   "source": [
    "tipuri de relatii\n",
    "\n",
    "- reflexiva - oricare x din X, avem (x, x) in R\n",
    "\n",
    "- ireflexiva\n",
    "\n",
    "- simetrica\n",
    "\n",
    "- antisimetrica - daca (x, y) in R, si (y, x) in R atunci x == y\n",
    "\n",
    "- tranzitiva - daca x si y --- y si z ---- x si z"
   ]
  },
  {
   "cell_type": "markdown",
   "metadata": {},
   "source": [
    "Relatie de echivalenta daca este reflexiva, simetrica si tranzitiva\n",
    "\n",
    "- a == b % n daca n | a - b (divide diferenta)\n",
    "\n",
    "Relatie de ordine stricta\n",
    "\n",
    "- ireflexiva si tranzitiva\n",
    "\n",
    "Relatie de ordine totala\n",
    "\n",
    "- reflexiva, antimetrica, tranzitiva ---> oricare 2 elemente sa fie comparabile\n",
    "\n",
    "Relatie de ordine partiala (non stricta)\n",
    "\n",
    "- reflexiva, antimetrica, tranzitiva"
   ]
  },
  {
   "cell_type": "markdown",
   "metadata": {},
   "source": [
    "COMPUNEREA RELATIILOR\n",
    "\n",
    "Inversa unei relatii\n",
    "\n",
    "R^-1 <= B x A cu (y, x) in R^-1 daca si numai daca (x, y) in R"
   ]
  },
  {
   "cell_type": "code",
   "execution_count": 1,
   "metadata": {},
   "outputs": [
    {
     "ename": "TypeError",
     "evalue": "dict expected at most 1 argument, got 2",
     "output_type": "error",
     "traceback": [
      "\u001b[0;31m---------------------------------------------------------------------------\u001b[0m",
      "\u001b[0;31mTypeError\u001b[0m                                 Traceback (most recent call last)",
      "\u001b[1;32m/Users/paulhondola/Faculta/LSD/curs/7.ipynb Cell 12\u001b[0m line \u001b[0;36m2\n\u001b[1;32m     <a href='vscode-notebook-cell:/Users/paulhondola/Faculta/LSD/curs/7.ipynb#X15sZmlsZQ%3D%3D?line=19'>20</a>\u001b[0m dictionar \u001b[39m=\u001b[39m \u001b[39mdict\u001b[39m()\n\u001b[1;32m     <a href='vscode-notebook-cell:/Users/paulhondola/Faculta/LSD/curs/7.ipynb#X15sZmlsZQ%3D%3D?line=21'>22</a>\u001b[0m dictionar2 \u001b[39m=\u001b[39m \u001b[39mdict\u001b[39m({\u001b[39m1\u001b[39m: \u001b[39m'\u001b[39m\u001b[39munu\u001b[39m\u001b[39m'\u001b[39m, \u001b[39m2\u001b[39m: \u001b[39m'\u001b[39m\u001b[39mdoi\u001b[39m\u001b[39m'\u001b[39m})\n\u001b[0;32m---> <a href='vscode-notebook-cell:/Users/paulhondola/Faculta/LSD/curs/7.ipynb#X15sZmlsZQ%3D%3D?line=23'>24</a>\u001b[0m dictionar3 \u001b[39m=\u001b[39m \u001b[39mdict\u001b[39;49m(((\u001b[39m10\u001b[39;49m, \u001b[39m'\u001b[39;49m\u001b[39m10\u001b[39;49m\u001b[39m'\u001b[39;49m)), ((\u001b[39m20\u001b[39;49m, \u001b[39m'\u001b[39;49m\u001b[39m20\u001b[39;49m\u001b[39m'\u001b[39;49m)))\n\u001b[1;32m     <a href='vscode-notebook-cell:/Users/paulhondola/Faculta/LSD/curs/7.ipynb#X15sZmlsZQ%3D%3D?line=25'>26</a>\u001b[0m \u001b[39mprint\u001b[39m(dictionar3)\n",
      "\u001b[0;31mTypeError\u001b[0m: dict expected at most 1 argument, got 2"
     ]
    }
   ],
   "source": [
    "# dictionare\n",
    "\n",
    "# colectie ordonata de perechi cheie-valoare\n",
    "# poate fi schimbata dupa creare\n",
    "\n",
    "# nu permite duplicate\n",
    "\n",
    "# cheile sunt unice in dictionar\n",
    "\n",
    "# cheile sunt imutabile\n",
    "\n",
    "# valorile sunt mutabile\n",
    "\n",
    "my_dict = {\n",
    "    \"nume\": \"Alin\",\n",
    "    \"an\": 1,\n",
    "    \"facultate\": \"Automatica si Calculatoare\",\n",
    "}\n",
    "\n",
    "dictionar = dict()\n",
    "\n",
    "dictionar2 = dict({1: 'unu', 2: 'doi'})\n",
    "\n",
    "dictionar3 = dict(((10, '10')), ((20, '20')))\n",
    "\n",
    "print(dictionar3)"
   ]
  },
  {
   "cell_type": "code",
   "execution_count": 2,
   "metadata": {},
   "outputs": [
    {
     "name": "stdout",
     "output_type": "stream",
     "text": [
      "dict_keys(['nume', 'an', 'facultate'])\n",
      "dict_values(['Alin', 1, 'Automatica si Calculatoare'])\n",
      "dict_items([('nume', 'Alin'), ('an', 1), ('facultate', 'Automatica si Calculatoare')])\n"
     ]
    }
   ],
   "source": [
    "# accesarea elementelor din dictionar\n",
    "\n",
    "my_dict = {\n",
    "    \"nume\": \"Alin\",\n",
    "    \"an\": 1,\n",
    "    \"facultate\": \"Automatica si Calculatoare\",\n",
    "}\n",
    "\n",
    "print(my_dict.keys())\n",
    "print(my_dict.values())\n",
    "print(my_dict.items())\n",
    "\n",
    "# modificare\n",
    "\n",
    "my_dict[\"nume\"] = \"Marius\" # modific\n",
    "my_dict[\"varsta\"] = 20 # adaug cheia varsta cu valoarea 20\n",
    "\n",
    "# metoda update\n",
    "\n",
    "my_dict.update({\"nume\": \"Paul\"})\n"
   ]
  },
  {
   "cell_type": "code",
   "execution_count": 6,
   "metadata": {},
   "outputs": [],
   "source": [
    "# stergerea elementelor din dictionar\n",
    "\n",
    "my_dict = {\n",
    "    \"nume\": \"Alin\",\n",
    "    \"an\": 1,\n",
    "    \"facultate\": \"Automatica si Calculatoare\",\n",
    "}\n",
    "\n",
    "my_dict.pop(\"facultate\")\n",
    "del my_dict[\"nume\"]\n",
    "\n",
    "del my_dict"
   ]
  },
  {
   "cell_type": "code",
   "execution_count": 7,
   "metadata": {},
   "outputs": [
    {
     "name": "stdout",
     "output_type": "stream",
     "text": [
      "6\n",
      "doi\n"
     ]
    }
   ],
   "source": [
    "# dictionar nested\n",
    "\n",
    "dictionar = {\n",
    "    \"dictionar1\": {1: 1, 2: 4, 3: 6},\n",
    "    \"dictionar2\": {1: 'unu', 2: 'doi'}\n",
    "}\n",
    "\n",
    "print(dictionar[\"dictionar1\"][3])\n",
    "print(dictionar[\"dictionar2\"][2])\n"
   ]
  },
  {
   "cell_type": "code",
   "execution_count": 8,
   "metadata": {},
   "outputs": [
    {
     "name": "stdout",
     "output_type": "stream",
     "text": [
      "{'Ana': 22, 'Maria': 13}\n"
     ]
    }
   ],
   "source": [
    "# RELATII IMPLEMENTATE CU DICTIONARE\n",
    "\n",
    "lst = [(\"Ana\", 7), (\"Maria\", 10), (\"Ana\", 5), (\"Maria\", 3), (\"Ana\", 10)]\n",
    "\n",
    "\n",
    "def transform(lista, dictionar = {}):\n",
    "    if lista == []:\n",
    "        return dictionar\n",
    "    if lista[0][0] in dictionar:\n",
    "        dictionar[lista[0][0]] = lista[0][1] + dictionar[lista[0][0]]\n",
    "    else:\n",
    "        dictionar[lista[0][0]] = lista[0][1]\n",
    "        \n",
    "    return transform(lista[1:], dictionar)\n",
    "\n",
    "print(transform(lst))\n",
    "\n"
   ]
  },
  {
   "cell_type": "code",
   "execution_count": null,
   "metadata": {},
   "outputs": [],
   "source": [
    "# parcurgerea cu reduce\n",
    "\n"
   ]
  }
 ],
 "metadata": {
  "kernelspec": {
   "display_name": "Python 3",
   "language": "python",
   "name": "python3"
  },
  "language_info": {
   "codemirror_mode": {
    "name": "ipython",
    "version": 3
   },
   "file_extension": ".py",
   "mimetype": "text/x-python",
   "name": "python",
   "nbconvert_exporter": "python",
   "pygments_lexer": "ipython3",
   "version": "3.11.6"
  }
 },
 "nbformat": 4,
 "nbformat_minor": 2
}
